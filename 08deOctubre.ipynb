{
  "nbformat": 4,
  "nbformat_minor": 0,
  "metadata": {
    "colab": {
      "name": "08deOctubre.ipynb",
      "provenance": [],
      "authorship_tag": "ABX9TyNTtb4PDkjChlAKByFyFCFw",
      "include_colab_link": true
    },
    "kernelspec": {
      "name": "python3",
      "display_name": "Python 3"
    }
  },
  "cells": [
    {
      "cell_type": "markdown",
      "metadata": {
        "id": "view-in-github",
        "colab_type": "text"
      },
      "source": [
        "<a href=\"https://colab.research.google.com/github/albertr808/edd_1310_2021/blob/master/08deOctubre.ipynb\" target=\"_parent\"><img src=\"https://colab.research.google.com/assets/colab-badge.svg\" alt=\"Open In Colab\"/></a>"
      ]
    },
    {
      "cell_type": "code",
      "metadata": {
        "id": "yhKjTFXE_PCj",
        "outputId": "5b4dc513-7474-4767-bb98-ea8b1b38ded8",
        "colab": {
          "base_uri": "https://localhost:8080/",
          "height": 122
        }
      },
      "source": [
        "monitores =[[\"Samsung\",\"17.3 \\\"\",1024],[\"BenQ\",\"40\\\"\",2048]]\n",
        "procesadores = [[\"Intel\",\"i7\",3.4],[\"AMD\",\"razzer\",3.3],[\"Intel\",\"i3\",3.1]]\n",
        "memorias = [[\"Kingston\", \"8GB\",\"DDR4\"],[\"Kingston\", \"16GB\",\"DDR3\"],[\"ADATA\", \"32GB\",\"DDR4\"]]\n",
        "\n",
        "componentes = [monitores,procesadores,memorias]\n",
        "print(componentes)\n",
        "print(componentes[2][1][1])\n",
        "print(int(componentes[0][1][2])*2)\n",
        "print(componentes[1][1][1][2:4:1])\n",
        "print(componentes[2][2][0].lower())"
      ],
      "execution_count": 13,
      "outputs": [
        {
          "output_type": "stream",
          "text": [
            "[[['Samsung', '17.3 \"', 1024], ['BenQ', '40\"', 2048]], [['Intel', 'i7', 3.4], ['AMD', 'razzer', 3.3], ['Intel', 'i3', 3.1]], [['Kingston', '8GB', 'DDR4'], ['Kingston', '16GB', 'DDR3'], ['ADATA', '32GB', 'DDR4']]]\n",
            "16GB\n",
            "4096\n",
            "zz\n",
            "adata\n"
          ],
          "name": "stdout"
        }
      ]
    },
    {
      "cell_type": "code",
      "metadata": {
        "id": "Gf7oJtAzJB1g",
        "outputId": "b022e2e5-64dd-4cdf-b8bc-843dcae50f51",
        "colab": {
          "base_uri": "https://localhost:8080/",
          "height": 187
        }
      },
      "source": [
        "frutas =[\"manzana\",\"pera\"]\n",
        "otras_frutas = [\"aguacate\",\"sandia\"]\n",
        "print(frutas+otras_frutas)\n",
        "print(frutas)\n",
        "\n",
        "#+ sobre listas\n",
        "#print(frutas+otras_frutas)\n",
        "#print(frutas)\n",
        "\n",
        "#funcion extend\n",
        "#frutas.extend(otras_frutas)\n",
        "#print(frutas)\n",
        "\n",
        "#frutas.append(otras_frutas)\n",
        "#print(frutas)\n",
        "\n",
        "#copias\n",
        "colores=[\"azul\",\"rojo\",\"verde\",\"violeta\"]\n",
        "otros_colores=colores\n",
        "print(colores)\n",
        "print(otros_colores)\n",
        "otros_colores.append(\"rosa\")\n",
        "print(colores)\n",
        "print(otros_colores)\n",
        "\n",
        "una_mas=colores.copy()\n",
        "print(una_mas)\n",
        "una_mas.append(\"gris\")\n",
        "print(una_mas)\n",
        "print(colores)\n",
        "\n",
        "\n",
        "#upaking de listas,\n",
        "alumno=[\"jesus\",\"perez\",\"herrera\",22,\"ico\",10.0]\n",
        "#nombre=alumno[0]\n",
        "#paterno=alumno[1]\n",
        "#etc.\n",
        "\n",
        "nombre,paterno,materno,edad,carrera,promedio=alumno\n",
        "print(f\"alumno:{nombre} carrera:{carrera} promedio:{promedio}\")\n",
        "\n",
        "\n"
      ],
      "execution_count": 23,
      "outputs": [
        {
          "output_type": "stream",
          "text": [
            "['manzana', 'pera', 'aguacate', 'sandia']\n",
            "['manzana', 'pera']\n",
            "['azul', 'rojo', 'verde', 'violeta']\n",
            "['azul', 'rojo', 'verde', 'violeta']\n",
            "['azul', 'rojo', 'verde', 'violeta', 'rosa']\n",
            "['azul', 'rojo', 'verde', 'violeta', 'rosa']\n",
            "['azul', 'rojo', 'verde', 'violeta', 'rosa']\n",
            "['azul', 'rojo', 'verde', 'violeta', 'rosa', 'gris']\n",
            "['azul', 'rojo', 'verde', 'violeta', 'rosa']\n",
            "alumno:jesus carrera:ico promedio:10.0\n"
          ],
          "name": "stdout"
        }
      ]
    },
    {
      "cell_type": "markdown",
      "metadata": {
        "id": "mDdRq3P3R9Cg"
      },
      "source": [
        "#Tuplas\n",
        "-se declaran con ()\n",
        "\n",
        "-selector es igual que las listas con []\n",
        "\n",
        "-no son mutables(no se puede agregar o eliminar)\n"
      ]
    },
    {
      "cell_type": "code",
      "metadata": {
        "id": "AAGUfaW1SQS-",
        "outputId": "8feab9f9-7e43-4ca7-a9f0-9933d88a0b9d",
        "colab": {
          "base_uri": "https://localhost:8080/",
          "height": 34
        }
      },
      "source": [
        "precios=(99.9,49.9,12.45 )\n",
        "print(precios[1])"
      ],
      "execution_count": 25,
      "outputs": [
        {
          "output_type": "stream",
          "text": [
            "49.9\n"
          ],
          "name": "stdout"
        }
      ]
    },
    {
      "cell_type": "markdown",
      "metadata": {
        "id": "yaANO8tzTr9J"
      },
      "source": [
        "#Diccionarios\n",
        "\n",
        "-Se declaran con {}\n",
        "\n",
        "-son mutables\n",
        "\n",
        "-conjunto de pares llave:valor\n",
        "\n",
        "-equivalente a los objetos Json de java\n",
        "\n",
        "-selector con []\n",
        "\n",
        "\n"
      ]
    },
    {
      "cell_type": "code",
      "metadata": {
        "id": "EGJmgOyZT89A",
        "outputId": "984434f8-3c6d-464c-9aa6-1a742f0d3561",
        "colab": {
          "base_uri": "https://localhost:8080/",
          "height": 122
        }
      },
      "source": [
        "cliente={ }\n",
        "print(cliente)\n",
        "alumno={  \"num_cta \" :317340134 }\n",
        "print(alumno)\n",
        "\n",
        "alumno={\" num_cta\" :32303 ,\n",
        "        \"carrea\" : \"ico\",\n",
        "         \"promedio\" : 9.8,\n",
        "        \"materias\" :[\"edd\",\"cyp\",\"calidad\",\"emprendimiento\"],\n",
        "        \"direccion\":{\n",
        "            \"calle\":\"rancho seco\",\n",
        "            \"numero\":23,\n",
        "            \"delegacion\":\"neza\",\n",
        "            \"estado\":{\n",
        "                \"id\":15,\n",
        "                \"nombre completo\":\"estado de mexico\",\n",
        "                \"nombre corto\":\"edomex\"\n",
        "                }\n",
        "           \n",
        "        }\n",
        "        }\n",
        "print(alumno)\n",
        "\n",
        "print(alumno[\"materias\"])\n",
        "print(alumno[\"direccion\"][\"estado\"][\"nombre corto\"])\n"
      ],
      "execution_count": 44,
      "outputs": [
        {
          "output_type": "stream",
          "text": [
            "{}\n",
            "{'num_cta ': 317340134}\n",
            "{' num_cta': 32303, 'carrea': 'ico', 'promedio': 9.8, 'materias': ['edd', 'cyp', 'calidad', 'emprendimiento'], 'direccion': {'calle': 'rancho seco', 'numero': 23, 'delegacion': 'neza', 'estado': {'id': 15, 'nombre completo': 'estado de mexico', 'nombre corto': 'edomex'}}}\n",
            "['edd', 'cyp', 'calidad', 'emprendimiento']\n",
            "edomex\n"
          ],
          "name": "stdout"
        }
      ]
    },
    {
      "cell_type": "code",
      "metadata": {
        "id": "jsxDIU5yTt2h"
      },
      "source": [
        ""
      ],
      "execution_count": null,
      "outputs": []
    }
  ]
}