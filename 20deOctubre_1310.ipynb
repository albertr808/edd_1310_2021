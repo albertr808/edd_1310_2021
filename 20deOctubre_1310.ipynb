{
  "nbformat": 4,
  "nbformat_minor": 0,
  "metadata": {
    "colab": {
      "name": "20deOctubre_1310.ipynb",
      "provenance": [],
      "collapsed_sections": [],
      "authorship_tag": "ABX9TyNsOi4gkU9mEVMSvetZlTeQ",
      "include_colab_link": true
    },
    "kernelspec": {
      "name": "python3",
      "display_name": "Python 3"
    }
  },
  "cells": [
    {
      "cell_type": "markdown",
      "metadata": {
        "id": "view-in-github",
        "colab_type": "text"
      },
      "source": [
        "<a href=\"https://colab.research.google.com/github/albertr808/edd_1310_2021/blob/master/20deOctubre_1310.ipynb\" target=\"_parent\"><img src=\"https://colab.research.google.com/assets/colab-badge.svg\" alt=\"Open In Colab\"/></a>"
      ]
    },
    {
      "cell_type": "code",
      "metadata": {
        "id": "OCyUZ4cfxsRH",
        "outputId": "aa97ed73-b56d-4505-c779-51636e72f650",
        "colab": {
          "base_uri": "https://localhost:8080/",
          "height": 272
        }
      },
      "source": [
        "archivo=open(\"numeros.txt\",\"rt\")\n",
        "for linea in archivo.readlines():\n",
        "  for trunc in linea.split(\",\"):\n",
        "    \n",
        "    print(int(trunc.strip()))\n",
        "\n",
        "\n"
      ],
      "execution_count": 8,
      "outputs": [
        {
          "output_type": "stream",
          "text": [
            "23\n",
            "23\n",
            "44\n",
            "55\n",
            "5\n",
            "44\n",
            "4\n",
            "5\n",
            "7\n",
            "7\n",
            "6\n",
            "5\n",
            "4\n",
            "2\n",
            "1\n"
          ],
          "name": "stdout"
        }
      ]
    },
    {
      "cell_type": "markdown",
      "metadata": {
        "id": "Fkc5vetk2qNP"
      },
      "source": [
        "#For en python\n",
        "\n",
        "dos versiones.\n",
        "\n",
        "1.range\n",
        "\n",
        "2. in iterator\n",
        "\n"
      ]
    },
    {
      "cell_type": "code",
      "metadata": {
        "id": "N3N0Y7WS2315",
        "outputId": "6cebf455-ff03-4497-a221-3edc63f00f76",
        "colab": {
          "base_uri": "https://localhost:8080/",
          "height": 255
        }
      },
      "source": [
        "r=(range(0,10,2))\n",
        "for x in r:\n",
        "  print(x)\n",
        "\n",
        "\n",
        "colores=[\"rojo\",\"rosa\",\"azul\",\"fuisha\"] #for (indice = 0; indice <4; indice++)\n",
        "for indice in range (0,4,1):  #len es para cuando no sabemos de cuantos elementos es la lista\n",
        "  print(colores[indice])\n",
        "\n",
        "for indice in range(0,len(colores),1):\n",
        "  colores[indice]=colores[indice].upper()\n",
        "\n",
        "\n",
        "# for sobre un iterador\n",
        "print(\"----------------------\")\n",
        "for col in colores:\n",
        "  print(col)"
      ],
      "execution_count": 20,
      "outputs": [
        {
          "output_type": "stream",
          "text": [
            "0\n",
            "2\n",
            "4\n",
            "6\n",
            "8\n",
            "rojo\n",
            "rosa\n",
            "azul\n",
            "fuisha\n",
            "----------------------\n",
            "ROJO\n",
            "ROSA\n",
            "AZUL\n",
            "FUISHA\n"
          ],
          "name": "stdout"
        }
      ]
    },
    {
      "cell_type": "markdown",
      "metadata": {
        "id": "msRFHZDA7-XN"
      },
      "source": [
        "#Generadores\n",
        "\n",
        "sintaxis :\n",
        "\n",
        "[valor for x in range(10)]\n"
      ]
    },
    {
      "cell_type": "code",
      "metadata": {
        "id": "d0fZhyGM8WjE",
        "outputId": "21def698-4c0f-4412-ec50-3d50c55d0dd8",
        "colab": {
          "base_uri": "https://localhost:8080/",
          "height": 34
        }
      },
      "source": [
        "lista=[0 for x in range (10)]\n",
        "\n",
        "\n",
        "print(lista)\n",
        "\n"
      ],
      "execution_count": 27,
      "outputs": [
        {
          "output_type": "stream",
          "text": [
            "[0, 0, 0, 0, 0, 0, 0, 0, 0, 0]\n"
          ],
          "name": "stdout"
        }
      ]
    },
    {
      "cell_type": "code",
      "metadata": {
        "id": "XHVBkWI595Fh",
        "outputId": "5e26b801-5b69-4a31-f9bb-f262eac5acbd",
        "colab": {
          "base_uri": "https://localhost:8080/",
          "height": 34
        }
      },
      "source": [
        "[[0 for x in range(3)] for z in range(3)]\n"
      ],
      "execution_count": 28,
      "outputs": [
        {
          "output_type": "execute_result",
          "data": {
            "text/plain": [
              "[[0, 0, 0], [0, 0, 0], [0, 0, 0]]"
            ]
          },
          "metadata": {
            "tags": []
          },
          "execution_count": 28
        }
      ]
    },
    {
      "cell_type": "markdown",
      "metadata": {
        "id": "OfKzYNUT-qKf"
      },
      "source": [
        ""
      ]
    },
    {
      "cell_type": "code",
      "metadata": {
        "id": "gn-dSusR-ukn",
        "outputId": "a40f4d67-eb9f-400b-a30f-5ed994eee4cf",
        "colab": {
          "base_uri": "https://localhost:8080/",
          "height": 34
        }
      },
      "source": [
        "ren=3\n",
        "col=3\n",
        "lista = [[0 for x in range (col)] for x in range(ren)]\n",
        "print(lista)"
      ],
      "execution_count": 30,
      "outputs": [
        {
          "output_type": "stream",
          "text": [
            "[[0, 0, 0], [0, 0, 0], [0, 0, 0]]\n"
          ],
          "name": "stdout"
        }
      ]
    },
    {
      "cell_type": "markdown",
      "metadata": {
        "id": "9hAWMn9w_OoT"
      },
      "source": [
        "#Poo en python\n",
        "-clase\n",
        "\n",
        "-creacionde objetos\n",
        "\n",
        "-constructor\n",
        "\n",
        "-encapsulamiento\n",
        "\n",
        "-metodos\n",
        "\n",
        "-atributos\n",
        "\n",
        "-herencia\n"
      ]
    },
    {
      "cell_type": "code",
      "metadata": {
        "id": "vUEI5ANb_fzZ",
        "outputId": "5097b19f-d28e-488c-aca1-51808d732aa6",
        "colab": {
          "base_uri": "https://localhost:8080/",
          "height": 51
        }
      },
      "source": [
        "class Computadora:\n",
        "  def __init__( self , m , p):\n",
        "    self.__marca=m\n",
        "    self.__procesador=p  #__ sirve para encapsularlos\n",
        "    print(\"creando el objeto\")\n",
        "\n",
        "  def to_string( self ):\n",
        "    return \"Marca :\"+self.__marca+\"Procesador :\"+self.__procesador\n",
        "\n",
        "mi_pc=Computadora(\"Toshiba\",\"intel i7\")\n",
        "print(mi_pc.to_string())"
      ],
      "execution_count": 37,
      "outputs": [
        {
          "output_type": "stream",
          "text": [
            "creando el objeto\n",
            "Marca :ToshibaProcesador :intel i7\n"
          ],
          "name": "stdout"
        }
      ]
    }
  ]
}