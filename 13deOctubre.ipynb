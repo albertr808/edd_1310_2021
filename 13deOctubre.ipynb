{
  "nbformat": 4,
  "nbformat_minor": 0,
  "metadata": {
    "colab": {
      "name": "13deOctubre.ipynb",
      "provenance": [],
      "authorship_tag": "ABX9TyNWYksdzr2HFDyBrUxgrrof",
      "include_colab_link": true
    },
    "kernelspec": {
      "name": "python3",
      "display_name": "Python 3"
    }
  },
  "cells": [
    {
      "cell_type": "markdown",
      "metadata": {
        "id": "view-in-github",
        "colab_type": "text"
      },
      "source": [
        "<a href=\"https://colab.research.google.com/github/albertr808/edd_1310_2021/blob/master/13deOctubre.ipynb\" target=\"_parent\"><img src=\"https://colab.research.google.com/assets/colab-badge.svg\" alt=\"Open In Colab\"/></a>"
      ]
    },
    {
      "cell_type": "code",
      "metadata": {
        "id": "nHFfp0DKv4Mc",
        "outputId": "8c05b73f-bfdf-4b5f-efb4-c5aa81131239",
        "colab": {
          "base_uri": "https://localhost:8080/",
          "height": 88
        }
      },
      "source": [
        "alumno = { \n",
        "          \"num_cta\" : 303030303 ,\n",
        "          \"carrera\" : \"ICO\",\n",
        "          \"promedio\" : 9.8,\n",
        "          \"materias\" :[\"EDD\",\"CyP\",\"Calidad\",\"Emprendimiento\"],\n",
        "          \"direccion\" : { \n",
        "                            \"calle\":\"rancho seco\",\n",
        "                            \"numero\" : 23 ,\n",
        "                            \"delegacion\" : \"Neza\",\n",
        "                            \"estado\" : {\n",
        "                                        \"id\" : 15 ,\n",
        "                                        \"nombre\" : \"Estado de Máxico\" ,\n",
        "                                        \"nombre_corto\" : \"EdoMex\"\n",
        "                                        } ,\n",
        "                            \"CP\":57170\n",
        "\n",
        "                        } \n",
        "          }\n",
        "print(alumno)\n",
        "alumno[\"carrera\"]=\"ingeniera en computacion\"\n",
        "print(alumno)\n",
        "alumno[\"nombre_completo\"]={\"primer_nombre\":\"juan\",\n",
        "                            \"Segundo_nombre\":\"pedro\",\n",
        "                            \"materno\":\"perez\",\n",
        "                            \"paterno\":\"gomez\"}\n",
        "\n",
        "\n",
        "alumno[\"semestre\"]=3\n",
        "print(alumno)\n",
        "\n",
        "          \n",
        "   "
      ],
      "execution_count": 69,
      "outputs": [
        {
          "output_type": "stream",
          "text": [
            "{'num_cta': 303030303, 'carrera': 'ICO', 'promedio': 9.8, 'materias': ['EDD', 'CyP', 'Calidad', 'Emprendimiento'], 'direccion': {'calle': 'rancho seco', 'numero': 23, 'delegacion': 'Neza', 'estado': {'id': 15, 'nombre': 'Estado de Máxico', 'nombre_corto': 'EdoMex'}, 'CP': 57170}}\n",
            "{'num_cta': 303030303, 'carrera': 'ingeniera en computacion', 'promedio': 9.8, 'materias': ['EDD', 'CyP', 'Calidad', 'Emprendimiento'], 'direccion': {'calle': 'rancho seco', 'numero': 23, 'delegacion': 'Neza', 'estado': {'id': 15, 'nombre': 'Estado de Máxico', 'nombre_corto': 'EdoMex'}, 'CP': 57170}}\n",
            "{'num_cta': 303030303, 'carrera': 'ingeniera en computacion', 'promedio': 9.8, 'materias': ['EDD', 'CyP', 'Calidad', 'Emprendimiento'], 'direccion': {'calle': 'rancho seco', 'numero': 23, 'delegacion': 'Neza', 'estado': {'id': 15, 'nombre': 'Estado de Máxico', 'nombre_corto': 'EdoMex'}, 'CP': 57170}, 'nombre_completo': {'primer_nombre': 'juan', 'Segundo_nombre': 'pedro', 'materno': 'perez', 'paterno': 'gomez'}, 'semestre': 3}\n"
          ],
          "name": "stdout"
        }
      ]
    },
    {
      "cell_type": "code",
      "metadata": {
        "id": "oFKCsX0xyAKx",
        "outputId": "452dac66-5e70-4158-c8df-8e1e8565021c",
        "colab": {
          "base_uri": "https://localhost:8080/",
          "height": 360
        }
      },
      "source": [
        "# key, value() & items()\n",
        "\n",
        "llaves = alumno.keys()\n",
        "print(llaves)\n",
        "for llave in llaves:\n",
        "  print(llave.upper())\n",
        "print (\"\\n__________\")\n",
        "valores = alumno.values()\n",
        "for val in valores:\n",
        "  print(val)\n",
        "\n",
        "pares = alumno.items()\n",
        "print(pares)\n",
        "for elem in pares:\n",
        "  print(f\"el campo {elem[0]} tiene el valor {elem [1]}\")\n",
        "\n"
      ],
      "execution_count": 15,
      "outputs": [
        {
          "output_type": "stream",
          "text": [
            "dict_keys(['num_cta', 'carrera', 'promedio', 'materias', 'direccion'])\n",
            "NUM_CTA\n",
            "CARRERA\n",
            "PROMEDIO\n",
            "MATERIAS\n",
            "DIRECCION\n",
            "\n",
            "__________\n",
            "303030303\n",
            "ICO\n",
            "9.8\n",
            "['EDD', 'CyP', 'Calidad', 'Emprendimiento']\n",
            "{'calle': 'rancho seco', 'numero': 23, 'delegacion': 'Neza', 'estado': {'id': 15, 'nombre': 'Estado de Máxico', 'nombre_corto': 'EdoMex'}, 'CP': 57170}\n",
            "dict_items([('num_cta', 303030303), ('carrera', 'ICO'), ('promedio', 9.8), ('materias', ['EDD', 'CyP', 'Calidad', 'Emprendimiento']), ('direccion', {'calle': 'rancho seco', 'numero': 23, 'delegacion': 'Neza', 'estado': {'id': 15, 'nombre': 'Estado de Máxico', 'nombre_corto': 'EdoMex'}, 'CP': 57170})])\n",
            "el campo num_cta tiene el valor 303030303\n",
            "el campo carrera tiene el valor ICO\n",
            "el campo promedio tiene el valor 9.8\n",
            "el campo materias tiene el valor ['EDD', 'CyP', 'Calidad', 'Emprendimiento']\n",
            "el campo direccion tiene el valor {'calle': 'rancho seco', 'numero': 23, 'delegacion': 'Neza', 'estado': {'id': 15, 'nombre': 'Estado de Máxico', 'nombre_corto': 'EdoMex'}, 'CP': 57170}\n"
          ],
          "name": "stdout"
        }
      ]
    },
    {
      "cell_type": "code",
      "metadata": {
        "id": "0aHaDYu21cxl",
        "outputId": "1ee7440e-1b67-4b3c-800b-b11ce90bdee2",
        "colab": {
          "base_uri": "https://localhost:8080/",
          "height": 34
        }
      },
      "source": [
        "#concatenar diccionarios\n",
        "computadora={\"procesador\":\"intel i7\",\"ram\":\"kingston 128\"}\n",
        "otros={\"monitor\":\"lg49\\\"\",\"hd\":\"toshiba 1 tb\"}\n",
        "computadora.update(otros)\n",
        "print(computadora)\n"
      ],
      "execution_count": 17,
      "outputs": [
        {
          "output_type": "stream",
          "text": [
            "{'procesador': 'intel i7', 'ram': 'kingston 128', 'monitor': 'lg49\"', 'hd': 'toshiba 1 tb'}\n"
          ],
          "name": "stdout"
        }
      ]
    },
    {
      "cell_type": "markdown",
      "metadata": {
        "id": "Q7-j341y287P"
      },
      "source": [
        "#funciones\n",
        "-unidades de codigo reutilizable\n",
        "\n",
        "-es un mecanismo de organizacion del codigo\n",
        "\n",
        "-una funcion toma 0 a n parametros de entrada\n",
        "\n",
        "-tiene una solo salida(return) de cualquiero tipo de dato\n",
        "\n",
        "-solo puede hacer dos cosas\n",
        "\n",
        "   -definirla\n",
        "\n",
        "  -llamarla\n",
        "\n",
        "  - Se define con la palabra def\n",
        "\n",
        "\n"
      ]
    },
    {
      "cell_type": "code",
      "metadata": {
        "id": "w2SQ5XL33uiu",
        "outputId": "3a414977-5a48-4ca9-d1ce-8ee754f96fa4",
        "colab": {
          "base_uri": "https://localhost:8080/",
          "height": 153
        }
      },
      "source": [
        "def sumar(x , y):\n",
        "  resultado=x+y\n",
        "  return resultado\n",
        "  \n",
        "def saludar(nombre):\n",
        "  print(f\"hola {nombre},como estas\")\n",
        "\n",
        "def multiplicar(valor,veces):\n",
        "  if valor !=None:\n",
        "    c=valor*veces\n",
        "  else: \n",
        "    c=\"operacion no valida\"\n",
        "  return c\n",
        "\n",
        "def operacion(a,b,c):\n",
        "    res=a+(b/c)\n",
        "    return  res\n",
        "\n",
        "\n",
        "\n",
        "\n",
        "print(sumar(10,5))\n",
        "print(sumar(2,6))\n",
        "print(saludar(\"jesus\"))\n",
        "print(saludar(\"jose\"))\n",
        "print(multiplicar(5,6))\n",
        "print(operacion(2,3,9))\n",
        "\n",
        "  \n"
      ],
      "execution_count": 42,
      "outputs": [
        {
          "output_type": "stream",
          "text": [
            "15\n",
            "8\n",
            "hola jesus,como estas\n",
            "None\n",
            "hola jose,como estas\n",
            "None\n",
            "30\n",
            "2.3333333333333335\n"
          ],
          "name": "stdout"
        }
      ]
    },
    {
      "cell_type": "code",
      "metadata": {
        "id": "Gtfz9flh-jXk",
        "outputId": "1a1de32d-b208-4771-bef4-83f8543cbc1e",
        "colab": {
          "base_uri": "https://localhost:8080/",
          "height": 204
        }
      },
      "source": [
        "def comanda(primer, fuerte, postre=\"Galletas de animalistos\"):\n",
        "  print(f\"de entrada pidio: {primer}\")\n",
        "  print(f\"de plato fuerte pido: {fuerte}\")\n",
        "  print(f\"de postre pidio: {postre}\")\n",
        "\n",
        "comanda(\"sopa aguada\",\"torta de papa\",\"gelatina de limon\")\n",
        "comanda(\"sopa aguada\",\"torta de papa\")\n",
        "\n",
        "#argumentos posicionales con tupla\n",
        "def comanda_2(*opciones):\n",
        "  print(f\"De entrada pidio: {opciones[0]}\")\n",
        "  print(f\"De plato fuerte pidio: {opciones[1]}\")\n",
        "  print(f\"De postre pidio: {opciones[2]}\")\n",
        "  print(\"\\nindicaciones extra\")\n",
        "  \n",
        "  for ind in opciones[3::]:\n",
        "   print(f\"\\t {ind}\")\n",
        "\n",
        "comanda_2(\"sopa aguada\",\"tora de papa\",\"gelatina de limon\")"
      ],
      "execution_count": 66,
      "outputs": [
        {
          "output_type": "stream",
          "text": [
            "de entrada pidio: sopa aguada\n",
            "de plato fuerte pido: torta de papa\n",
            "de postre pidio: gelatina de limon\n",
            "de entrada pidio: sopa aguada\n",
            "de plato fuerte pido: torta de papa\n",
            "de postre pidio: Galletas de animalistos\n",
            "De entrada pidio: sopa aguada\n",
            "De plato fuerte pidio: tora de papa\n",
            "De postre pidio: gelatina de limon\n",
            "\n",
            "indicaciones extra\n"
          ],
          "name": "stdout"
        }
      ]
    },
    {
      "cell_type": "code",
      "metadata": {
        "id": "TOPcacy1CMhF",
        "outputId": "84a807b3-4152-4b41-bcf1-5852b6ab8630",
        "colab": {
          "base_uri": "https://localhost:8080/",
          "height": 156
        }
      },
      "source": [
        "#argumentos posicionales con diccionarios**\n",
        "def comanda_3(**opciones):\n",
        "  print(opciones)\n",
        "\n",
        "  for op in opciones.items():\n",
        "    print(f\"{op[0]} ->{op[1]}\")\n",
        "\n",
        "comanda_3(primer=\"sopa aguada\",fuerte=\"tortas de papa\",postre=\"gelatina de limon\",extra1=\"las tortas bien doradas\",extra2=\"traer dos limones\",extra3=\"agua con hielos\")"
      ],
      "execution_count": 68,
      "outputs": [
        {
          "output_type": "stream",
          "text": [
            "{'primer': 'sopa aguada', 'fuerte': 'tortas de papa', 'postre': 'gelatina de limon', 'extra1': 'las tortas bien doradas', 'extra2': 'traer dos limones', 'extra3': 'agua con hielos'}\n",
            "primer ->sopa aguada\n",
            "fuerte ->tortas de papa\n",
            "postre ->gelatina de limon\n",
            "extra1 ->las tortas bien doradas\n",
            "extra2 ->traer dos limones\n",
            "extra3 ->agua con hielos\n"
          ],
          "name": "stdout"
        }
      ]
    }
  ]
}