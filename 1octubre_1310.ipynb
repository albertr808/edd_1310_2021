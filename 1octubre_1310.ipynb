{
  "nbformat": 4,
  "nbformat_minor": 0,
  "metadata": {
    "colab": {
      "name": "1octubre_1310.ipynb",
      "provenance": [],
      "authorship_tag": "ABX9TyMi3XJLvjR8QpvBLj5RrZrA",
      "include_colab_link": true
    },
    "kernelspec": {
      "name": "python3",
      "display_name": "Python 3"
    }
  },
  "cells": [
    {
      "cell_type": "markdown",
      "metadata": {
        "id": "view-in-github",
        "colab_type": "text"
      },
      "source": [
        "<a href=\"https://colab.research.google.com/github/albertr808/edd_1310_2021/blob/master/1octubre_1310.ipynb\" target=\"_parent\"><img src=\"https://colab.research.google.com/assets/colab-badge.svg\" alt=\"Open In Colab\"/></a>"
      ]
    },
    {
      "cell_type": "code",
      "metadata": {
        "id": "AnKQfD7O7UnC"
      },
      "source": [
        ""
      ],
      "execution_count": null,
      "outputs": []
    },
    {
      "cell_type": "markdown",
      "metadata": {
        "id": "U-LjhB9O7v2f"
      },
      "source": [
        "##Intro Python\n",
        "##Variables\n",
        "tipo dinamico \n"
      ]
    },
    {
      "cell_type": "code",
      "metadata": {
        "id": "NXUHWXxG8ENC",
        "outputId": "68a26d8f-b052-4e8d-ac7f-193884eb80a6",
        "colab": {
          "base_uri": "https://localhost:8080/",
          "height": 153
        }
      },
      "source": [
        "\n",
        "escuela=\"fes aragon\"\n",
        "print(escuela)\n",
        "print(\"------------\")\n",
        "edad=13\n",
        "estatura=1.67\n",
        "fumador=True\n",
        "frase= \"\"\"Esta es una frase de\n",
        "multiple liena\n",
        "y tambien es un tipo de dato\"\"\"\n",
        "print(frase)\n",
        "print(frase)\n",
        "nombre = 'jose'\n",
        "nombre_completo = \"jose sosa cardenas\"\n",
        "\n"
      ],
      "execution_count": 7,
      "outputs": [
        {
          "output_type": "stream",
          "text": [
            "fes aragon\n",
            "------------\n",
            "Esta es una frase de\n",
            "multiple liena\n",
            "y tambien es un tipo de dato\n",
            "Esta es una frase de\n",
            "multiple liena\n",
            "y tambien es un tipo de dato\n"
          ],
          "name": "stdout"
        }
      ]
    },
    {
      "cell_type": "markdown",
      "metadata": {
        "id": "cCg2ZxU29-GJ"
      },
      "source": [
        "#Print\n",
        "con comas, con signos de mas + con format()con el operador f\"\""
      ]
    },
    {
      "cell_type": "code",
      "metadata": {
        "id": "hdBxeRPO-gqz",
        "outputId": "b01abeb5-6e60-4b03-e815-ff3f0402d318",
        "colab": {
          "base_uri": "https://localhost:8080/",
          "height": 34
        }
      },
      "source": [
        "#\n",
        "print(nombre,edad)\n"
      ],
      "execution_count": 8,
      "outputs": [
        {
          "output_type": "stream",
          "text": [
            "jose 13\n"
          ],
          "name": "stdout"
        }
      ]
    },
    {
      "cell_type": "code",
      "metadata": {
        "id": "9CQBzUpk_R43",
        "outputId": "bd24ac7f-942a-4ff8-dae1-369daba7bba7",
        "colab": {
          "base_uri": "https://localhost:8080/",
          "height": 51
        }
      },
      "source": [
        "#CONCATENANDO\n",
        "print(nombre+str(edad))\n",
        "print(nombre+nombre_completo)"
      ],
      "execution_count": 11,
      "outputs": [
        {
          "output_type": "stream",
          "text": [
            "jose13\n",
            "josejose sosa cardenas\n"
          ],
          "name": "stdout"
        }
      ]
    },
    {
      "cell_type": "code",
      "metadata": {
        "id": "TvIKH-Mc_TiI",
        "outputId": "687d1d0a-36b0-4fa4-defb-dc8b5440fae6",
        "colab": {
          "base_uri": "https://localhost:8080/",
          "height": 51
        }
      },
      "source": [
        "#Con formato ->nombre: jose y su edad es 13 años\n",
        "print(\"su nombre es :\",nombre,\"y su edad es\",edad,\" años\")\n",
        "print(\"Su nombre es {0} y su edad  es de {1} años.\".format(nombre,edad)) \n",
        "\n"
      ],
      "execution_count": 18,
      "outputs": [
        {
          "output_type": "stream",
          "text": [
            "su nombre es : jose y su edad es 13  años\n",
            "Su nombre es jose y su edad  es de 13 años.\n"
          ],
          "name": "stdout"
        }
      ]
    },
    {
      "cell_type": "code",
      "metadata": {
        "id": "XCM4qdLfBzXy",
        "outputId": "7d47c92c-1d95-48ac-ab4b-d7966b39fcfe",
        "colab": {
          "base_uri": "https://localhost:8080/",
          "height": 34
        }
      },
      "source": [
        "#Con formato con el operador f\n",
        "print(f\"su nombre es {nombre} y su edad es {edad} años\")"
      ],
      "execution_count": 19,
      "outputs": [
        {
          "output_type": "stream",
          "text": [
            "su nombre es jose y su edad es 13 años\n"
          ],
          "name": "stdout"
        }
      ]
    },
    {
      "cell_type": "markdown",
      "metadata": {
        "id": "9HVCM_7IC6C7"
      },
      "source": [
        "#Caracter de escape\n",
        "\\n salo de linea\n",
        "\n",
        "\\t tabulador\n",
        "\n",
        "\\a beep\n",
        "\n",
        "\\\" imprimir comilla doble\n",
        "\n",
        "\\'imprimir comilla simple"
      ]
    },
    {
      "cell_type": "markdown",
      "metadata": {
        "id": "4DP24UzbEMn6"
      },
      "source": [
        "#Ayuda de tipos de datos en python\n",
        "dir() help()\n"
      ]
    },
    {
      "cell_type": "code",
      "metadata": {
        "id": "_INUK4CrETRi",
        "outputId": "1a3a1c3f-7a84-4526-8f1a-eb4118548e3f",
        "colab": {
          "base_uri": "https://localhost:8080/",
          "height": 68
        }
      },
      "source": [
        "#stri,int,float,bool..list,dict,set\n",
        "print(nombre_completo.capitalize())\n",
        "print(nombre_completo.upper()) \n",
        "print(nombre_completo.title())"
      ],
      "execution_count": 25,
      "outputs": [
        {
          "output_type": "stream",
          "text": [
            "Jose sosa cardenas\n",
            "JOSE SOSA CARDENAS\n",
            "Jose Sosa Cardenas\n"
          ],
          "name": "stdout"
        }
      ]
    },
    {
      "cell_type": "markdown",
      "metadata": {
        "id": "krU2e7ujGrXq"
      },
      "source": [
        "#Clase String\n",
        "Es manejada como un arreglo(c o java) o lista aqui en python\n"
      ]
    },
    {
      "cell_type": "code",
      "metadata": {
        "id": "sQg0ntQ9Hso_",
        "outputId": "5f2832a3-cff6-458f-a3b3-d8c1ae9d75c7",
        "colab": {
          "base_uri": "https://localhost:8080/",
          "height": 34
        }
      },
      "source": [
        "telefono=\"huawei mate 30 pro\"\n",
        "print(telefono[0])"
      ],
      "execution_count": 26,
      "outputs": [
        {
          "output_type": "stream",
          "text": [
            "h\n"
          ],
          "name": "stdout"
        }
      ]
    },
    {
      "cell_type": "markdown",
      "metadata": {
        "id": "lCQTjAQkIPCe"
      },
      "source": [
        "#Slicing(rebanado)\n",
        "[inicio:stop:incremento]\n",
        "El stop no se incluye , termina en el valor anterior al stop\n"
      ]
    },
    {
      "cell_type": "code",
      "metadata": {
        "id": "zNV2Dp9qIdu5",
        "outputId": "b07e831a-da1f-4f27-fdbf-2d54fcf7e82f",
        "colab": {
          "base_uri": "https://localhost:8080/",
          "height": 51
        }
      },
      "source": [
        "print(telefono[7:11:1])\n",
        "#el inicio y el incremento son opcionales\n",
        "print(telefono[-3::1])"
      ],
      "execution_count": 31,
      "outputs": [
        {
          "output_type": "stream",
          "text": [
            "mate\n",
            "pro\n"
          ],
          "name": "stdout"
        }
      ]
    },
    {
      "cell_type": "markdown",
      "metadata": {
        "id": "HM-xaFStNOrt"
      },
      "source": [
        "#Metodos de string\n",
        "Existen metodos muy utiles en esta clase"
      ]
    },
    {
      "cell_type": "code",
      "metadata": {
        "id": "W0A-JJQDNYTj",
        "outputId": "3356f6d0-993f-4aab-9999-3eae39d119ce",
        "colab": {
          "base_uri": "https://localhost:8080/",
          "height": 221
        }
      },
      "source": [
        "facultad=\"    facultad de estudios superiores aragon      \"\n",
        "print(facultad.count(\" \"))\n",
        "print(facultad.find(\"s\"))\n",
        "print(facultad.strip())\n",
        "print(len(facultad))\n",
        "print(facultad.split('u'))\n",
        "print(facultad.strip(\" \").split(\" \"))\n",
        "print(\"--------------\")\n",
        "#copiar cadenas\n",
        "otra_cadena=facultad\n",
        "facultad=\"fes aragon\"\n",
        "print(facultad)\n",
        "print(otra_cadena)\n",
        "\n",
        "#copiar listas\n",
        "colores=[\"rojo\",\"verde\"]\n",
        "otra=colores.copy()\n",
        "print(colores)\n",
        "print(otra)\n",
        "otra.append(\"rosa\")\n",
        "print(otra)\n"
      ],
      "execution_count": 42,
      "outputs": [
        {
          "output_type": "stream",
          "text": [
            "14\n",
            "17\n",
            "facultad de estudios superiores aragon\n",
            "48\n",
            "['    fac', 'ltad de est', 'dios s', 'periores aragon      ']\n",
            "['facultad', 'de', 'estudios', 'superiores', 'aragon']\n",
            "--------------\n",
            "fes aragon\n",
            "    facultad de estudios superiores aragon      \n",
            "['rojo', 'verde']\n",
            "['rojo', 'verde']\n",
            "['rojo', 'verde', 'rosa']\n"
          ],
          "name": "stdout"
        }
      ]
    }
  ]
}