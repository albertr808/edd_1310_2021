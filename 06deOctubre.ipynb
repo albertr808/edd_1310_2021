{
  "nbformat": 4,
  "nbformat_minor": 0,
  "metadata": {
    "colab": {
      "name": "06deOctubre.ipynb",
      "provenance": [],
      "authorship_tag": "ABX9TyOx4jMZVqnEZ0qM8QkkquDu",
      "include_colab_link": true
    },
    "kernelspec": {
      "name": "python3",
      "display_name": "Python 3"
    }
  },
  "cells": [
    {
      "cell_type": "markdown",
      "metadata": {
        "id": "view-in-github",
        "colab_type": "text"
      },
      "source": [
        "<a href=\"https://colab.research.google.com/github/albertr808/edd_1310_2021/blob/master/06deOctubre.ipynb\" target=\"_parent\"><img src=\"https://colab.research.google.com/assets/colab-badge.svg\" alt=\"Open In Colab\"/></a>"
      ]
    },
    {
      "cell_type": "code",
      "metadata": {
        "id": "Xmr95z-_qiIm",
        "outputId": "20257ba9-6e9d-40d5-c23a-f226eb683c5c",
        "colab": {
          "base_uri": "https://localhost:8080/",
          "height": 238
        }
      },
      "source": [
        "#String continuacion\n",
        "\n",
        "numeros_txt=\"   1,2,3,4   ,5, 35  ,15 ,12\"\n",
        "print(numeros_txt)\n",
        "numeros_txt=numeros_txt.lstrip().split(\",\")\n",
        "print(numeros_txt)\n",
        "\n",
        "for j in range(len(numeros_txt)):\n",
        "   numeros_txt[j]=int (numeros_txt[j].strip())\n",
        "print(numeros_txt)\n",
        "\n",
        "\n",
        "#funcion range\n",
        "# range(inicio,stop,incremento)\n",
        "print(range(0,10,1))\n",
        "rango=range(1,10,1)\n",
        "for x in rango:\n",
        "  print(x)\n",
        "  "
      ],
      "execution_count": null,
      "outputs": [
        {
          "output_type": "stream",
          "text": [
            "   1,2,3,4   ,5, 35  ,15 ,12\n",
            "['1', '2', '3', '4   ', '5', ' 35  ', '15 ', '12']\n",
            "[1, 2, 3, 4, 5, 35, 15, 12]\n",
            "range(0, 10)\n",
            "1\n",
            "2\n",
            "3\n",
            "4\n",
            "5\n",
            "6\n",
            "7\n",
            "8\n",
            "9\n"
          ],
          "name": "stdout"
        }
      ]
    },
    {
      "cell_type": "markdown",
      "metadata": {
        "id": "9ZeVxso2xOfQ"
      },
      "source": [
        "#lISTAS\n",
        "-mutables\n",
        "\n",
        "-declaran con []\n",
        "\n",
        "-selector[int]\n",
        "\n",
        "-pueden ser de cualquier tipo y mezclado\n",
        "\n",
        "#Tuplas\n",
        "-No mutables\n",
        "\n",
        "-se declaran con ()\n",
        "\n",
        "-selector[int]\n",
        "\n",
        "#Diccionario\n",
        "-son mutables\n",
        "\n",
        "-son conjuntos de pares de llaves:valor\n",
        "\n",
        "-Equivalentes a los Obejtos Json de JavaScript\n",
        "\n",
        "#conjuntos\n",
        "-representacion de la teoria de conjuntos\n"
      ]
    },
    {
      "cell_type": "code",
      "metadata": {
        "id": "UNu_lzWVyV_i",
        "outputId": "59731469-c729-4153-9447-d05637a6e79d",
        "colab": {
          "base_uri": "https://localhost:8080/",
          "height": 136
        }
      },
      "source": [
        "#Listas\n",
        "frutas=[\"pera\",\"manzana\",\"fresa\",\"kiwi\",\"naranja\"]\n",
        "print(frutas)\n",
        "cosas=[\"cuaderno\",2,3.1416,True,False,[\"rojo\",\"azul\"] ]\n",
        "print(cosas)\n",
        "frutas[2]=\"Fresa\"\n",
        "print(frutas)\n",
        "frutas.append(\"aguacate\")\n",
        "print(frutas)\n",
        "frutas.insert(2,\"sandia\")\n",
        "print(frutas)\n",
        "\n",
        "#concatenas listas\n",
        "fecha=[\"06\",\"10\",\"2020\"]\n",
        "print(fecha)\n",
        "fecha_str=\"/\".join(fecha)\n",
        "print(fecha_str)"
      ],
      "execution_count": null,
      "outputs": [
        {
          "output_type": "stream",
          "text": [
            "['pera', 'manzana', 'fresa', 'kiwi', 'naranja']\n",
            "['cuaderno', 2, 3.1416, True, False, ['rojo', 'azul']]\n",
            "['pera', 'manzana', 'Fresa', 'kiwi', 'naranja']\n",
            "['pera', 'manzana', 'Fresa', 'kiwi', 'naranja', 'aguacate']\n",
            "['pera', 'manzana', 'sandia', 'Fresa', 'kiwi', 'naranja', 'aguacate']\n",
            "['06', '10', '2020']\n",
            "06/10/2020\n"
          ],
          "name": "stdout"
        }
      ]
    },
    {
      "cell_type": "code",
      "metadata": {
        "id": "frI6jZdQ3Thc",
        "outputId": "1f58670c-bc92-467b-c4dc-91850a6f5dee",
        "colab": {
          "base_uri": "https://localhost:8080/",
          "height": 187
        }
      },
      "source": [
        "#Eliminar elementos\n",
        "cosas=[\"cuaderno\",2 , 3.1416,True,False,[\"rojo\",\"azul\"] ]\n",
        "print(cosas)\n",
        "cosas.append(\"libro\")\n",
        "cosas.append(\"lapiz\")\n",
        "print(cosas)\n",
        "algo=cosas.pop()\n",
        "print(cosas)\n",
        "print(algo)\n",
        "\n",
        "algo=cosas.pop(2)\n",
        "print(cosas)\n",
        "print(algo)\n",
        "\n",
        "cosas.remove(2)#remover un dato de la lista\n",
        "print(cosas)\n",
        "#vaciar una lista\n",
        "cosas.clear()\n",
        "print(cosas)\n",
        "\n",
        "#ordenar\n",
        "print(frutas)\n",
        "frutas.sort()\n",
        "print(frutas)"
      ],
      "execution_count": 54,
      "outputs": [
        {
          "output_type": "stream",
          "text": [
            "['cuaderno', 2, 3.1416, True, False, ['rojo', 'azul']]\n",
            "['cuaderno', 2, 3.1416, True, False, ['rojo', 'azul'], 'libro', 'lapiz']\n",
            "['cuaderno', 2, 3.1416, True, False, ['rojo', 'azul'], 'libro']\n",
            "lapiz\n",
            "['cuaderno', 2, True, False, ['rojo', 'azul'], 'libro']\n",
            "3.1416\n",
            "['cuaderno', True, False, ['rojo', 'azul'], 'libro']\n",
            "[]\n",
            "['Fresa', 'aguacate', 'kiwi', 'manzana', 'naranja', 'pera', 'sandia']\n",
            "['Fresa', 'aguacate', 'kiwi', 'manzana', 'naranja', 'pera', 'sandia']\n"
          ],
          "name": "stdout"
        }
      ]
    },
    {
      "cell_type": "code",
      "metadata": {
        "id": "IxEFkJ4Y7LHg",
        "outputId": "ec5d6da8-4ce1-4a3c-9428-5e208166fafc",
        "colab": {
          "base_uri": "https://localhost:8080/",
          "height": 102
        }
      },
      "source": [
        "#Slicing\n",
        "cosas=[\"cuaderno\",2 , 3.1416,True,False,[\"rojo\",\"azul\"] ]\n",
        "print(cosas[3:5:1])\n",
        "print(cosas)\n",
        "print(cosas[0][3:5:1])\n",
        "numeros=[0,1,2,3,4,5,6,7,8,9,10,11,12,13,14,15]\n",
        "print(numeros[7:12:1])\n",
        "\n",
        "\n",
        "#sustituir rebanadas  -2,-2 ->[0,1,2,3,4,5,6,7,-2,-2,13,14,15]\n",
        "numeros[8:13:1]=[-2,-2]\n",
        "print(numeros)\n",
        "\n",
        "\n",
        "#preguntar por existencias\n",
        "print(100 in numeros)\n"
      ],
      "execution_count": 60,
      "outputs": [
        {
          "output_type": "stream",
          "text": [
            "[True, False]\n",
            "['cuaderno', 2, 3.1416, True, False, ['rojo', 'azul']]\n",
            "de\n",
            "[7, 8, 9, 10, 11]\n",
            "[0, 1, 2, 3, 4, 5, 6, 7, -2, -2, 13, 14, 15]\n"
          ],
          "name": "stdout"
        }
      ]
    },
    {
      "cell_type": "markdown",
      "metadata": {
        "id": "xPLrR9L9-mcj"
      },
      "source": [
        "#Listas multidimensión \n",
        "listas dentro de listas"
      ]
    },
    {
      "cell_type": "code",
      "metadata": {
        "id": "N5Iux6tk_4O8",
        "outputId": "db6da6e3-6a9c-432e-be59-7ea9d6d1c145",
        "colab": {
          "base_uri": "https://localhost:8080/",
          "height": 173
        }
      },
      "source": [
        "computadoras=[\"hp\",\"mac book pro 17\",\"mate book\",\"lenovo legion\" ]\n",
        "oss=[\"windows 10\",\"linux\",\"android\",\"ios\"]\n",
        "computo=[computadoras,oss ]\n",
        "print(computo[0])\n",
        "print(computo[1])\n",
        "print(computo[0][2][0:5])\n",
        "print(computo[0][3][5::-1])\n",
        "print(computo[0][3][-8::-1])\n",
        "print(\"linux\" in computo[-1])\n",
        "dbms=[[\"mysql\",\"open source\",False],[\"ms sql server\",\"de paga\",True]]\n",
        "computo.append(dbms)\n",
        "print(computo)\n",
        "print(computo[2][0][0])"
      ],
      "execution_count": 66,
      "outputs": [
        {
          "output_type": "stream",
          "text": [
            "['hp', 'mac book pro 17', 'mate book', 'lenovo legion']\n",
            "['windows 10', 'linux', 'android', 'ios']\n",
            "mate \n",
            "ovonel\n",
            "ovonel\n",
            "True\n",
            "[['hp', 'mac book pro 17', 'mate book', 'lenovo legion'], ['windows 10', 'linux', 'android', 'ios'], [['mysql', 'open source', False], ['ms sql server', 'de paga', True]]]\n",
            "mysql\n"
          ],
          "name": "stdout"
        }
      ]
    },
    {
      "cell_type": "code",
      "metadata": {
        "id": "LqSzod0rz3H0",
        "outputId": "9e120e78-5f38-466a-b144-9dd58186c7b4",
        "colab": {
          "base_uri": "https://localhost:8080/",
          "height": 1000
        }
      },
      "source": [
        "#ayuda lista\n",
        "help(list)"
      ],
      "execution_count": null,
      "outputs": [
        {
          "output_type": "stream",
          "text": [
            "Help on class list in module builtins:\n",
            "\n",
            "class list(object)\n",
            " |  list() -> new empty list\n",
            " |  list(iterable) -> new list initialized from iterable's items\n",
            " |  \n",
            " |  Methods defined here:\n",
            " |  \n",
            " |  __add__(self, value, /)\n",
            " |      Return self+value.\n",
            " |  \n",
            " |  __contains__(self, key, /)\n",
            " |      Return key in self.\n",
            " |  \n",
            " |  __delitem__(self, key, /)\n",
            " |      Delete self[key].\n",
            " |  \n",
            " |  __eq__(self, value, /)\n",
            " |      Return self==value.\n",
            " |  \n",
            " |  __ge__(self, value, /)\n",
            " |      Return self>=value.\n",
            " |  \n",
            " |  __getattribute__(self, name, /)\n",
            " |      Return getattr(self, name).\n",
            " |  \n",
            " |  __getitem__(...)\n",
            " |      x.__getitem__(y) <==> x[y]\n",
            " |  \n",
            " |  __gt__(self, value, /)\n",
            " |      Return self>value.\n",
            " |  \n",
            " |  __iadd__(self, value, /)\n",
            " |      Implement self+=value.\n",
            " |  \n",
            " |  __imul__(self, value, /)\n",
            " |      Implement self*=value.\n",
            " |  \n",
            " |  __init__(self, /, *args, **kwargs)\n",
            " |      Initialize self.  See help(type(self)) for accurate signature.\n",
            " |  \n",
            " |  __iter__(self, /)\n",
            " |      Implement iter(self).\n",
            " |  \n",
            " |  __le__(self, value, /)\n",
            " |      Return self<=value.\n",
            " |  \n",
            " |  __len__(self, /)\n",
            " |      Return len(self).\n",
            " |  \n",
            " |  __lt__(self, value, /)\n",
            " |      Return self<value.\n",
            " |  \n",
            " |  __mul__(self, value, /)\n",
            " |      Return self*value.\n",
            " |  \n",
            " |  __ne__(self, value, /)\n",
            " |      Return self!=value.\n",
            " |  \n",
            " |  __new__(*args, **kwargs) from builtins.type\n",
            " |      Create and return a new object.  See help(type) for accurate signature.\n",
            " |  \n",
            " |  __repr__(self, /)\n",
            " |      Return repr(self).\n",
            " |  \n",
            " |  __reversed__(...)\n",
            " |      L.__reversed__() -- return a reverse iterator over the list\n",
            " |  \n",
            " |  __rmul__(self, value, /)\n",
            " |      Return value*self.\n",
            " |  \n",
            " |  __setitem__(self, key, value, /)\n",
            " |      Set self[key] to value.\n",
            " |  \n",
            " |  __sizeof__(...)\n",
            " |      L.__sizeof__() -- size of L in memory, in bytes\n",
            " |  \n",
            " |  append(...)\n",
            " |      L.append(object) -> None -- append object to end\n",
            " |  \n",
            " |  clear(...)\n",
            " |      L.clear() -> None -- remove all items from L\n",
            " |  \n",
            " |  copy(...)\n",
            " |      L.copy() -> list -- a shallow copy of L\n",
            " |  \n",
            " |  count(...)\n",
            " |      L.count(value) -> integer -- return number of occurrences of value\n",
            " |  \n",
            " |  extend(...)\n",
            " |      L.extend(iterable) -> None -- extend list by appending elements from the iterable\n",
            " |  \n",
            " |  index(...)\n",
            " |      L.index(value, [start, [stop]]) -> integer -- return first index of value.\n",
            " |      Raises ValueError if the value is not present.\n",
            " |  \n",
            " |  insert(...)\n",
            " |      L.insert(index, object) -- insert object before index\n",
            " |  \n",
            " |  pop(...)\n",
            " |      L.pop([index]) -> item -- remove and return item at index (default last).\n",
            " |      Raises IndexError if list is empty or index is out of range.\n",
            " |  \n",
            " |  remove(...)\n",
            " |      L.remove(value) -> None -- remove first occurrence of value.\n",
            " |      Raises ValueError if the value is not present.\n",
            " |  \n",
            " |  reverse(...)\n",
            " |      L.reverse() -- reverse *IN PLACE*\n",
            " |  \n",
            " |  sort(...)\n",
            " |      L.sort(key=None, reverse=False) -> None -- stable sort *IN PLACE*\n",
            " |  \n",
            " |  ----------------------------------------------------------------------\n",
            " |  Data and other attributes defined here:\n",
            " |  \n",
            " |  __hash__ = None\n",
            "\n"
          ],
          "name": "stdout"
        }
      ]
    }
  ]
}