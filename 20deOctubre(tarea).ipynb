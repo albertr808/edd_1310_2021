{
  "nbformat": 4,
  "nbformat_minor": 0,
  "metadata": {
    "colab": {
      "name": "20deOctubre(tarea).ipynb",
      "provenance": [],
      "authorship_tag": "ABX9TyMNyPAej3M6mWY7BYW4y56y",
      "include_colab_link": true
    },
    "kernelspec": {
      "name": "python3",
      "display_name": "Python 3"
    }
  },
  "cells": [
    {
      "cell_type": "markdown",
      "metadata": {
        "id": "view-in-github",
        "colab_type": "text"
      },
      "source": [
        "<a href=\"https://colab.research.google.com/github/albertr808/edd_1310_2021/blob/master/20deOctubre(tarea).ipynb\" target=\"_parent\"><img src=\"https://colab.research.google.com/assets/colab-badge.svg\" alt=\"Open In Colab\"/></a>"
      ]
    },
    {
      "cell_type": "code",
      "metadata": {
        "id": "dXWniqjiK9v4",
        "outputId": "b15e8e77-7ef7-4485-9306-00726f6e4b68",
        "colab": {
          "base_uri": "https://localhost:8080/",
          "height": 102
        }
      },
      "source": [
        "class Persona:\n",
        "  def __init__( self , n , e, s):\n",
        "    self.__nombre=n\n",
        "    self.__edad=e\n",
        "    self.__estatura=s\n",
        "    \n",
        "\n",
        "  def to_string( self ):\n",
        "    return \"Nombre: \"+self.__nombre+\" Edad: \" +self.__edad+\" Estatura: \" +self.__estatura\n",
        "  \n",
        "  def dormir(self):\n",
        "    print(\"durmiendo\")\n",
        "    \n",
        "    \n",
        "  def caminar(self):\n",
        "    print(\"Caminando\")\n",
        "\n",
        "\n",
        "person=Persona(\"Jesus\",\"18\",\"1.65\")\n",
        "print(person.to_string())\n",
        "print(person.dormir())\n",
        "print(person.caminar())\n"
      ],
      "execution_count": 20,
      "outputs": [
        {
          "output_type": "stream",
          "text": [
            "Nombre: Jesus Edad: 18 Estatura: 1.65\n",
            "durmiendo\n",
            "None\n",
            "Caminando\n",
            "None\n"
          ],
          "name": "stdout"
        }
      ]
    },
    {
      "cell_type": "code",
      "metadata": {
        "id": "VBxkFESNLkrg",
        "outputId": "8bed2149-434c-479c-e7b2-6a139a96c328",
        "colab": {
          "base_uri": "https://localhost:8080/",
          "height": 102
        }
      },
      "source": [
        "class Celular:\n",
        "  def __init__( self , m , d, s):\n",
        "    self.__marca=m\n",
        "    self.__modelo= d\n",
        "    self.__espacio=s \n",
        "   \n",
        "\n",
        "  def to_string( self ):\n",
        "    return \"Marca: \"+self.__marca+\"Modelo: \"+self.__modelo+\" espadio de memoria: \"+self.__espacio\n",
        "\n",
        "  def Llamar(self):\n",
        "    print(\"Llamando\")\n",
        "    \n",
        "    \n",
        "  def Poner_alarma(self):\n",
        "    print(\"Poniendo alarma 7:00\")\n",
        "\n",
        "celular=Celular(\"Huawei\",\"P9s\",\"16 gb\")\n",
        "print(celular.to_string())\n",
        "print(celular.Llamar())\n",
        "print(celular.Poner_alarma())"
      ],
      "execution_count": 30,
      "outputs": [
        {
          "output_type": "stream",
          "text": [
            "Marca: HuaweiModelo: P9s espadio de memoria: 16 gb\n",
            "Llamando\n",
            "None\n",
            "Poniendo alarma 7:00\n",
            "None\n"
          ],
          "name": "stdout"
        }
      ]
    }
  ]
}