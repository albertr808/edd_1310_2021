{
  "nbformat": 4,
  "nbformat_minor": 0,
  "metadata": {
    "colab": {
      "name": "27deOctubre.ipynb",
      "provenance": [],
      "authorship_tag": "ABX9TyNH22mVsE+o3Yr/xLBjrozG",
      "include_colab_link": true
    },
    "kernelspec": {
      "name": "python3",
      "display_name": "Python 3"
    }
  },
  "cells": [
    {
      "cell_type": "markdown",
      "metadata": {
        "id": "view-in-github",
        "colab_type": "text"
      },
      "source": [
        "<a href=\"https://colab.research.google.com/github/albertr808/edd_1310_2021/blob/master/27deOctubre.ipynb\" target=\"_parent\"><img src=\"https://colab.research.google.com/assets/colab-badge.svg\" alt=\"Open In Colab\"/></a>"
      ]
    },
    {
      "cell_type": "code",
      "metadata": {
        "id": "uriYU0VVCYHN",
        "outputId": "80ce9d1a-29dd-4bef-8af1-19b7a504e68a",
        "colab": {
          "base_uri": "https://localhost:8080/",
          "height": 68
        }
      },
      "source": [
        "class Computadora:\n",
        "    def __init__( self , m , p):\n",
        "        self.__marca = m\n",
        "        self.__procesador = p\n",
        "\n",
        "    def to_string( self ):\n",
        "        return \"MArca:\"+self.__marca+\" Procesador:\"+self.__procesador\n",
        "    def set_marca(self, m):\n",
        "      self.__marca = m\n",
        "    def get_marca(self):\n",
        "      return self.__marca\n",
        "    def set_procesador(sel, p):\n",
        "      self.__procesador = p\n",
        "    def get_procesador (self):\n",
        "      return self.__procesador\n",
        "\n",
        "mi_pc = Computadora(\"Toshiba\",\"Intel i7\")\n",
        "print(mi_pc.to_string())\n",
        "print(mi_pc.to_string())\n",
        "mi_pc.__marca=\"HP \"\n",
        "\n",
        "mi_pc.set_marca(\"hp\")\n",
        "print(mi_pc.get_procesador())"
      ],
      "execution_count": 8,
      "outputs": [
        {
          "output_type": "stream",
          "text": [
            "MArca:Toshiba Procesador:Intel i7\n",
            "MArca:Toshiba Procesador:Intel i7\n",
            "Intel i7\n"
          ],
          "name": "stdout"
        }
      ]
    },
    {
      "cell_type": "markdown",
      "metadata": {
        "id": "O9M1Kp1bEJSg"
      },
      "source": [
        "#Encapsulamiento python 3\n",
        "\n",
        "# # tradicional tipo java\n",
        "\n",
        "void setAtributo(val)\n",
        "\n",
        "tipo getAtributi()\n",
        "\n",
        "# # estilo python 3\n",
        "\n",
        "-utlizando decoradores\n",
        "\n",
        "-@property\n",
        "\n",
        "-@atributo.setter\n"
      ]
    },
    {
      "cell_type": "code",
      "metadata": {
        "id": "NdlQGm9pH13y",
        "outputId": "18ae6c6f-ec1b-41a1-bee9-56184558e72b",
        "colab": {
          "base_uri": "https://localhost:8080/",
          "height": 102
        }
      },
      "source": [
        "class Computadora:\n",
        "  def __init__(self, m, p):\n",
        "    self.marca=m # se manda a llamar el decorador @property\n",
        "    self.procesador=p\n",
        "  \n",
        "  @property  #se declara como atributo privado y funciona como metodo get\n",
        "  def marca( self):  \n",
        "    return self.__marca\n",
        "\n",
        "  @marca.setter\n",
        "  def marca(self, m):\n",
        "    print(\"en el setter de marca\")\n",
        "    self.__marca= m\n",
        "\n",
        "\n",
        "  @property\n",
        "  def procesador(self):\n",
        "    return self.__procesador\n",
        "\n",
        "  @procesador.setter\n",
        "  def procesador(self , p):\n",
        "    print(\"en el metodo set del procesador\")\n",
        "    self.__procesador = p\n",
        "\n",
        " \n",
        "\n",
        "  \n",
        "  def to_string (self):\n",
        "    return \"marca: \"+ self.marca+ \"procesador \"+ self.procesador\n",
        "\n",
        "\n",
        "mi_pc2=Computadora(\"macbookpro \",\" intel i 7\")\n",
        "print(mi_pc2.to_string())\n",
        "mi_pc2.marca=\"dell\"\n",
        "print(mi_pc2.to_string())\n"
      ],
      "execution_count": 21,
      "outputs": [
        {
          "output_type": "stream",
          "text": [
            "en el setter de marca\n",
            "en el metodo set del procesador\n",
            "marca: macbookpro procesador  intel i 7\n",
            "en el setter de marca\n",
            "marca: dellprocesador  intel i 7\n"
          ],
          "name": "stdout"
        }
      ]
    },
    {
      "cell_type": "code",
      "metadata": {
        "id": "kk3w_-lEQwxq",
        "outputId": "ddfbca24-f664-44d3-f98d-d90e64040b6c",
        "colab": {
          "base_uri": "https://localhost:8080/",
          "height": 85
        }
      },
      "source": [
        "#herencia, pasando de la clase base a la declararcion\n",
        "class ServidorEmpresarial (Computadora):\n",
        "  def __init__(self):\n",
        "    print(\"servidor\")\n",
        "\n",
        "server=ServidorEmpresarial()\n",
        "server.marca = \"sun micro systems\"\n",
        "server.procesador = \"intel i7\"\n",
        "print(server.to_string())\n"
      ],
      "execution_count": 22,
      "outputs": [
        {
          "output_type": "stream",
          "text": [
            "servidor\n",
            "en el setter de marca\n",
            "en el metodo set del procesador\n",
            "marca: sun micro systemsprocesador intel i7\n"
          ],
          "name": "stdout"
        }
      ]
    }
  ]
}