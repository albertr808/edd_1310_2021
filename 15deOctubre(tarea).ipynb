{
  "nbformat": 4,
  "nbformat_minor": 0,
  "metadata": {
    "colab": {
      "name": "15deOctubre(tarea).ipynb",
      "provenance": [],
      "authorship_tag": "ABX9TyMiHCuVJw9DLEyu2FF1g93y",
      "include_colab_link": true
    },
    "kernelspec": {
      "name": "python3",
      "display_name": "Python 3"
    }
  },
  "cells": [
    {
      "cell_type": "markdown",
      "metadata": {
        "id": "view-in-github",
        "colab_type": "text"
      },
      "source": [
        "<a href=\"https://colab.research.google.com/github/albertr808/edd_1310_2021/blob/master/15deOctubre(tarea).ipynb\" target=\"_parent\"><img src=\"https://colab.research.google.com/assets/colab-badge.svg\" alt=\"Open In Colab\"/></a>"
      ]
    },
    {
      "cell_type": "code",
      "metadata": {
        "id": "kohvFdIEALcv",
        "outputId": "8222d344-c13e-4607-db21-e10792b17528",
        "colab": {
          "base_uri": "https://localhost:8080/",
          "height": 51
        }
      },
      "source": [
        "arch=open(\"Datos.txt\",\"rt\")\n",
        "data=arch.readline().lstrip().split(\",\")\n",
        "for j in range(len(data)):\n",
        "  data[j]=int(data[j].strip())\n",
        "\n",
        " # funcion de suma\n",
        "def sumar_lista(lista):\n",
        "  suma=0\n",
        "\n",
        "  for numero in lista:\n",
        "    suma += numero\n",
        "  return suma\n",
        "\n",
        "\n",
        "print(sumar_lista(data))\n",
        "print(data)\n",
        "arch.close()"
      ],
      "execution_count": 4,
      "outputs": [
        {
          "output_type": "stream",
          "text": [
            "406\n",
            "[1, 2, 1, 14, 29, 45, 5, 58, 56, 10, 29, 14, 88, 17, 4, 3, 1, 7, 12, 10]\n"
          ],
          "name": "stdout"
        }
      ]
    }
  ]
}